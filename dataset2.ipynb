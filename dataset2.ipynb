import pandas as pd
from scipy.stats import zscore
df=pd.read_csv('dataset - netflix1.csv')
  print("Original Dataset")
  df.fillna(df.head())
  z_scores=zscore(df.select_dtypes(include=['float64','int64']))
  abs_z_scores=abs(z_scores)
  filtered_entries=(abs_z_scores<3).all(axis=1)
  df=df[filtered_entries]
  print("\nCleaned Dataset:")
  df.to_csv('cleaned_dataset.csv',index=False)
  print("\nCleaned dataset saved as cleaned_dataset.csv")
