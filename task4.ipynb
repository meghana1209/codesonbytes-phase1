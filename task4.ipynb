import pandas as pd
from sklearn.model_selection import train_test_split
from sklearn.linear_model import LinearRegression
from sklearn.metrics import mean_squared_error
import matplotlib.pyplot as plt

# Load the train dataset
train_data = pd.read_csv('/content/Book1.csv') 

# Replace 'Feature1', 'Feature2', ... with actual feature names
X_train = train_data[['Feature1', 'Feature2', ...]]
y_train = train_data['Target']

# Load the test dataset
test_data = pd.read_csv('/content/Book2.csv')

# Replace 'Feature1', 'Feature2', ... with actual feature names
X_test = test_data[['Feature1', 'Feature2', ...]]
y_test = test_data['Target']

# Create a linear regression model
model = LinearRegression()

# Train the model
model.fit(X_train, y_train)

# Make predictions on the test set
predictions = model.predict(X_test)

# Evaluate the model
mse = mean_squared_error(y_test, predictions)
print(f'Mean Squared Error: {mse}')

# Visualize the regression line (for simplicity, assuming only one feature)
plt.scatter(X_test['Feature1'], y_test, color='black')
plt.plot(X_test['Feature1'], predictions, color='blue', linewidth=3)
plt.xlabel('Feature1')
plt.ylabel('Target')
plt.title('Linear Regression Model')
plt.show()
